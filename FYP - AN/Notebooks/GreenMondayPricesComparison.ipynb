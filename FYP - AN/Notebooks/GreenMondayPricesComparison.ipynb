{
 "cells": [
  {
   "cell_type": "markdown",
   "id": "0b7d9202",
   "metadata": {},
   "source": [
    "# <b><font color= 'red'> COMP494,495 – Final Year Project</font></b>\n",
    "\n",
    "## <b>Andreas Neocleous<b>\n",
    "\n",
    "#### Green Monday Prices Comparison"
   ]
  },
  {
   "cell_type": "code",
   "execution_count": 1,
   "id": "f6175fee",
   "metadata": {},
   "outputs": [],
   "source": [
    "import pandas as pd\n",
    "import numpy as np"
   ]
  },
  {
   "cell_type": "code",
   "execution_count": 2,
   "id": "4c63961d",
   "metadata": {},
   "outputs": [],
   "source": [
    "import seaborn as sns\n",
    "import matplotlib.pyplot as plt\n",
    "%matplotlib inline"
   ]
  },
  {
   "cell_type": "code",
   "execution_count": 3,
   "id": "0ffdca6e",
   "metadata": {},
   "outputs": [
    {
     "data": {
      "text/html": [
       "<div>\n",
       "<style scoped>\n",
       "    .dataframe tbody tr th:only-of-type {\n",
       "        vertical-align: middle;\n",
       "    }\n",
       "\n",
       "    .dataframe tbody tr th {\n",
       "        vertical-align: top;\n",
       "    }\n",
       "\n",
       "    .dataframe thead th {\n",
       "        text-align: right;\n",
       "    }\n",
       "</style>\n",
       "<table border=\"1\" class=\"dataframe\">\n",
       "  <thead>\n",
       "    <tr style=\"text-align: right;\">\n",
       "      <th></th>\n",
       "      <th>type</th>\n",
       "      <th>product</th>\n",
       "      <th>normalized_product</th>\n",
       "      <th>quantity</th>\n",
       "      <th>max</th>\n",
       "      <th>min</th>\n",
       "      <th>avg</th>\n",
       "      <th>month</th>\n",
       "      <th>year</th>\n",
       "      <th>file</th>\n",
       "    </tr>\n",
       "  </thead>\n",
       "  <tbody>\n",
       "    <tr>\n",
       "      <th>0</th>\n",
       "      <td>ΡΥΖΙ</td>\n",
       "      <td>tilda pure basmati original 1kg</td>\n",
       "      <td>NaN</td>\n",
       "      <td>1.00</td>\n",
       "      <td>6.89</td>\n",
       "      <td>3.89</td>\n",
       "      <td>5.62</td>\n",
       "      <td>4</td>\n",
       "      <td>2022</td>\n",
       "      <td>ΒασικάΚαταναλωτικάΑγαθά</td>\n",
       "    </tr>\n",
       "    <tr>\n",
       "      <th>1</th>\n",
       "      <td>ΡΥΖΙ</td>\n",
       "      <td>σολεας 3a rice glasse (σούπες και γεμιστά) 1kg</td>\n",
       "      <td>NaN</td>\n",
       "      <td>1.00</td>\n",
       "      <td>2.82</td>\n",
       "      <td>1.77</td>\n",
       "      <td>2.12</td>\n",
       "      <td>4</td>\n",
       "      <td>2022</td>\n",
       "      <td>ΒασικάΚαταναλωτικάΑγαθά</td>\n",
       "    </tr>\n",
       "    <tr>\n",
       "      <th>2</th>\n",
       "      <td>ΡΥΖΙ</td>\n",
       "      <td>uncle bens ρύζι μακρύκοκκο - parboiled (20 λεπ...</td>\n",
       "      <td>NaN</td>\n",
       "      <td>1.00</td>\n",
       "      <td>4.07</td>\n",
       "      <td>2.75</td>\n",
       "      <td>3.48</td>\n",
       "      <td>4</td>\n",
       "      <td>2022</td>\n",
       "      <td>ΒασικάΚαταναλωτικάΑγαθά</td>\n",
       "    </tr>\n",
       "    <tr>\n",
       "      <th>3</th>\n",
       "      <td>ΡΥΖΙ</td>\n",
       "      <td>σολεας 3a ρύζι basmati αυθεντικό αρωματικό1kg</td>\n",
       "      <td>NaN</td>\n",
       "      <td>1.00</td>\n",
       "      <td>4.59</td>\n",
       "      <td>2.65</td>\n",
       "      <td>3.24</td>\n",
       "      <td>4</td>\n",
       "      <td>2022</td>\n",
       "      <td>ΒασικάΚαταναλωτικάΑγαθά</td>\n",
       "    </tr>\n",
       "    <tr>\n",
       "      <th>4</th>\n",
       "      <td>ΡΥΖΙ</td>\n",
       "      <td>σολεας 3a rice parboiled (πράσινη συσκευασία) 1kg</td>\n",
       "      <td>NaN</td>\n",
       "      <td>1.00</td>\n",
       "      <td>2.69</td>\n",
       "      <td>1.35</td>\n",
       "      <td>1.84</td>\n",
       "      <td>4</td>\n",
       "      <td>2022</td>\n",
       "      <td>ΒασικάΚαταναλωτικάΑγαθά</td>\n",
       "    </tr>\n",
       "    <tr>\n",
       "      <th>...</th>\n",
       "      <td>...</td>\n",
       "      <td>...</td>\n",
       "      <td>...</td>\n",
       "      <td>...</td>\n",
       "      <td>...</td>\n",
       "      <td>...</td>\n",
       "      <td>...</td>\n",
       "      <td>...</td>\n",
       "      <td>...</td>\n",
       "      <td>...</td>\n",
       "    </tr>\n",
       "    <tr>\n",
       "      <th>3580</th>\n",
       "      <td>ΨΩΜΙ</td>\n",
       "      <td>ελιωτή χωριάτικη τεμάχιο</td>\n",
       "      <td>NaN</td>\n",
       "      <td>1.00</td>\n",
       "      <td>2.40</td>\n",
       "      <td>1.10</td>\n",
       "      <td>1.75</td>\n",
       "      <td>3</td>\n",
       "      <td>2022</td>\n",
       "      <td>ΠαρατηρητήτιοΤιμώνΚαθαράςΔευτέρας</td>\n",
       "    </tr>\n",
       "    <tr>\n",
       "      <th>3581</th>\n",
       "      <td>ΚΡΑΣΙΑ</td>\n",
       "      <td>keo othello (ερυθρό ξηρό) 75cl</td>\n",
       "      <td>NaN</td>\n",
       "      <td>0.75</td>\n",
       "      <td>4.50</td>\n",
       "      <td>2.35</td>\n",
       "      <td>3.08</td>\n",
       "      <td>3</td>\n",
       "      <td>2022</td>\n",
       "      <td>ΠαρατηρητήτιοΤιμώνΚαθαράςΔευτέρας</td>\n",
       "    </tr>\n",
       "    <tr>\n",
       "      <th>3582</th>\n",
       "      <td>ΚΡΑΣΙΑ</td>\n",
       "      <td>afames 62 (ερυθρό ξηρό) 75cl</td>\n",
       "      <td>NaN</td>\n",
       "      <td>0.75</td>\n",
       "      <td>5.20</td>\n",
       "      <td>2.35</td>\n",
       "      <td>3.68</td>\n",
       "      <td>3</td>\n",
       "      <td>2022</td>\n",
       "      <td>ΠαρατηρητήτιοΤιμώνΚαθαράςΔευτέρας</td>\n",
       "    </tr>\n",
       "    <tr>\n",
       "      <th>3583</th>\n",
       "      <td>ΚΑΡΒΟΥΝΑ</td>\n",
       "      <td>κάρβουνα πυρσός 5kg</td>\n",
       "      <td>NaN</td>\n",
       "      <td>5.00</td>\n",
       "      <td>5.50</td>\n",
       "      <td>3.99</td>\n",
       "      <td>4.69</td>\n",
       "      <td>3</td>\n",
       "      <td>2022</td>\n",
       "      <td>ΠαρατηρητήτιοΤιμώνΚαθαράςΔευτέρας</td>\n",
       "    </tr>\n",
       "    <tr>\n",
       "      <th>3584</th>\n",
       "      <td>ΚΑΡΒΟΥΝΑ</td>\n",
       "      <td>κάρβουνα ετοsha 5kg</td>\n",
       "      <td>NaN</td>\n",
       "      <td>5.00</td>\n",
       "      <td>5.28</td>\n",
       "      <td>3.99</td>\n",
       "      <td>4.50</td>\n",
       "      <td>3</td>\n",
       "      <td>2022</td>\n",
       "      <td>ΠαρατηρητήτιοΤιμώνΚαθαράςΔευτέρας</td>\n",
       "    </tr>\n",
       "  </tbody>\n",
       "</table>\n",
       "<p>3585 rows × 10 columns</p>\n",
       "</div>"
      ],
      "text/plain": [
       "          type                                            product  \\\n",
       "0         ΡΥΖΙ                    tilda pure basmati original 1kg   \n",
       "1         ΡΥΖΙ     σολεας 3a rice glasse (σούπες και γεμιστά) 1kg   \n",
       "2         ΡΥΖΙ  uncle bens ρύζι μακρύκοκκο - parboiled (20 λεπ...   \n",
       "3         ΡΥΖΙ      σολεας 3a ρύζι basmati αυθεντικό αρωματικό1kg   \n",
       "4         ΡΥΖΙ  σολεας 3a rice parboiled (πράσινη συσκευασία) 1kg   \n",
       "...        ...                                                ...   \n",
       "3580      ΨΩΜΙ                           ελιωτή χωριάτικη τεμάχιο   \n",
       "3581    ΚΡΑΣΙΑ                     keo othello (ερυθρό ξηρό) 75cl   \n",
       "3582    ΚΡΑΣΙΑ                       afames 62 (ερυθρό ξηρό) 75cl   \n",
       "3583  ΚΑΡΒΟΥΝΑ                                κάρβουνα πυρσός 5kg   \n",
       "3584  ΚΑΡΒΟΥΝΑ                                κάρβουνα ετοsha 5kg   \n",
       "\n",
       "     normalized_product  quantity   max   min   avg  month  year  \\\n",
       "0                   NaN      1.00  6.89  3.89  5.62      4  2022   \n",
       "1                   NaN      1.00  2.82  1.77  2.12      4  2022   \n",
       "2                   NaN      1.00  4.07  2.75  3.48      4  2022   \n",
       "3                   NaN      1.00  4.59  2.65  3.24      4  2022   \n",
       "4                   NaN      1.00  2.69  1.35  1.84      4  2022   \n",
       "...                 ...       ...   ...   ...   ...    ...   ...   \n",
       "3580                NaN      1.00  2.40  1.10  1.75      3  2022   \n",
       "3581                NaN      0.75  4.50  2.35  3.08      3  2022   \n",
       "3582                NaN      0.75  5.20  2.35  3.68      3  2022   \n",
       "3583                NaN      5.00  5.50  3.99  4.69      3  2022   \n",
       "3584                NaN      5.00  5.28  3.99  4.50      3  2022   \n",
       "\n",
       "                                   file  \n",
       "0               ΒασικάΚαταναλωτικάΑγαθά  \n",
       "1               ΒασικάΚαταναλωτικάΑγαθά  \n",
       "2               ΒασικάΚαταναλωτικάΑγαθά  \n",
       "3               ΒασικάΚαταναλωτικάΑγαθά  \n",
       "4               ΒασικάΚαταναλωτικάΑγαθά  \n",
       "...                                 ...  \n",
       "3580  ΠαρατηρητήτιοΤιμώνΚαθαράςΔευτέρας  \n",
       "3581  ΠαρατηρητήτιοΤιμώνΚαθαράςΔευτέρας  \n",
       "3582  ΠαρατηρητήτιοΤιμώνΚαθαράςΔευτέρας  \n",
       "3583  ΠαρατηρητήτιοΤιμώνΚαθαράςΔευτέρας  \n",
       "3584  ΠαρατηρητήτιοΤιμώνΚαθαράςΔευτέρας  \n",
       "\n",
       "[3585 rows x 10 columns]"
      ]
     },
     "execution_count": 3,
     "metadata": {},
     "output_type": "execute_result"
    }
   ],
   "source": [
    "newdata = pd.read_csv('../Data/FinalData/EditedFinal.csv')\n",
    "newdf = pd.DataFrame(newdata)\n",
    "newdf"
   ]
  },
  {
   "cell_type": "markdown",
   "id": "8d188343",
   "metadata": {},
   "source": [
    "### 2022"
   ]
  },
  {
   "cell_type": "code",
   "execution_count": 4,
   "id": "cb0b3d58",
   "metadata": {},
   "outputs": [
    {
     "data": {
      "text/html": [
       "<div>\n",
       "<style scoped>\n",
       "    .dataframe tbody tr th:only-of-type {\n",
       "        vertical-align: middle;\n",
       "    }\n",
       "\n",
       "    .dataframe tbody tr th {\n",
       "        vertical-align: top;\n",
       "    }\n",
       "\n",
       "    .dataframe thead th {\n",
       "        text-align: right;\n",
       "    }\n",
       "</style>\n",
       "<table border=\"1\" class=\"dataframe\">\n",
       "  <thead>\n",
       "    <tr style=\"text-align: right;\">\n",
       "      <th></th>\n",
       "      <th>type</th>\n",
       "      <th>product</th>\n",
       "      <th>normalized_product</th>\n",
       "      <th>quantity</th>\n",
       "      <th>max</th>\n",
       "      <th>min</th>\n",
       "      <th>avg</th>\n",
       "      <th>month</th>\n",
       "      <th>year</th>\n",
       "      <th>file</th>\n",
       "    </tr>\n",
       "  </thead>\n",
       "  <tbody>\n",
       "    <tr>\n",
       "      <th>1803</th>\n",
       "      <td>ΡΥΖΙ</td>\n",
       "      <td>tilda pure basmati original 1kg</td>\n",
       "      <td>NaN</td>\n",
       "      <td>1.00</td>\n",
       "      <td>6.75</td>\n",
       "      <td>4.19</td>\n",
       "      <td>5.71</td>\n",
       "      <td>3</td>\n",
       "      <td>2022</td>\n",
       "      <td>ΒασικάΚαταναλωτικάΑγαθά</td>\n",
       "    </tr>\n",
       "    <tr>\n",
       "      <th>1804</th>\n",
       "      <td>ΡΥΖΙ</td>\n",
       "      <td>σολεας 3a rice glasse (σούπες και γεμιστά) 1kg</td>\n",
       "      <td>NaN</td>\n",
       "      <td>1.00</td>\n",
       "      <td>2.82</td>\n",
       "      <td>1.77</td>\n",
       "      <td>2.09</td>\n",
       "      <td>3</td>\n",
       "      <td>2022</td>\n",
       "      <td>ΒασικάΚαταναλωτικάΑγαθά</td>\n",
       "    </tr>\n",
       "    <tr>\n",
       "      <th>1805</th>\n",
       "      <td>ΡΥΖΙ</td>\n",
       "      <td>uncle bens ρύζι μακρύκοκκο - parboiled (20 λεπ...</td>\n",
       "      <td>NaN</td>\n",
       "      <td>1.00</td>\n",
       "      <td>4.07</td>\n",
       "      <td>2.89</td>\n",
       "      <td>3.51</td>\n",
       "      <td>3</td>\n",
       "      <td>2022</td>\n",
       "      <td>ΒασικάΚαταναλωτικάΑγαθά</td>\n",
       "    </tr>\n",
       "    <tr>\n",
       "      <th>1806</th>\n",
       "      <td>ΡΥΖΙ</td>\n",
       "      <td>σολεας 3a ρύζι basmati αυθεντικό αρωματικό1kg</td>\n",
       "      <td>NaN</td>\n",
       "      <td>1.00</td>\n",
       "      <td>4.70</td>\n",
       "      <td>2.69</td>\n",
       "      <td>3.18</td>\n",
       "      <td>3</td>\n",
       "      <td>2022</td>\n",
       "      <td>ΒασικάΚαταναλωτικάΑγαθά</td>\n",
       "    </tr>\n",
       "    <tr>\n",
       "      <th>1807</th>\n",
       "      <td>ΡΥΖΙ</td>\n",
       "      <td>σολεας 3a rice parboiled (πράσινη συσκευασία) 1kg</td>\n",
       "      <td>NaN</td>\n",
       "      <td>1.00</td>\n",
       "      <td>2.10</td>\n",
       "      <td>1.35</td>\n",
       "      <td>1.74</td>\n",
       "      <td>3</td>\n",
       "      <td>2022</td>\n",
       "      <td>ΒασικάΚαταναλωτικάΑγαθά</td>\n",
       "    </tr>\n",
       "    <tr>\n",
       "      <th>...</th>\n",
       "      <td>...</td>\n",
       "      <td>...</td>\n",
       "      <td>...</td>\n",
       "      <td>...</td>\n",
       "      <td>...</td>\n",
       "      <td>...</td>\n",
       "      <td>...</td>\n",
       "      <td>...</td>\n",
       "      <td>...</td>\n",
       "      <td>...</td>\n",
       "    </tr>\n",
       "    <tr>\n",
       "      <th>3580</th>\n",
       "      <td>ΨΩΜΙ</td>\n",
       "      <td>ελιωτή χωριάτικη τεμάχιο</td>\n",
       "      <td>NaN</td>\n",
       "      <td>1.00</td>\n",
       "      <td>2.40</td>\n",
       "      <td>1.10</td>\n",
       "      <td>1.75</td>\n",
       "      <td>3</td>\n",
       "      <td>2022</td>\n",
       "      <td>ΠαρατηρητήτιοΤιμώνΚαθαράςΔευτέρας</td>\n",
       "    </tr>\n",
       "    <tr>\n",
       "      <th>3581</th>\n",
       "      <td>ΚΡΑΣΙΑ</td>\n",
       "      <td>keo othello (ερυθρό ξηρό) 75cl</td>\n",
       "      <td>NaN</td>\n",
       "      <td>0.75</td>\n",
       "      <td>4.50</td>\n",
       "      <td>2.35</td>\n",
       "      <td>3.08</td>\n",
       "      <td>3</td>\n",
       "      <td>2022</td>\n",
       "      <td>ΠαρατηρητήτιοΤιμώνΚαθαράςΔευτέρας</td>\n",
       "    </tr>\n",
       "    <tr>\n",
       "      <th>3582</th>\n",
       "      <td>ΚΡΑΣΙΑ</td>\n",
       "      <td>afames 62 (ερυθρό ξηρό) 75cl</td>\n",
       "      <td>NaN</td>\n",
       "      <td>0.75</td>\n",
       "      <td>5.20</td>\n",
       "      <td>2.35</td>\n",
       "      <td>3.68</td>\n",
       "      <td>3</td>\n",
       "      <td>2022</td>\n",
       "      <td>ΠαρατηρητήτιοΤιμώνΚαθαράςΔευτέρας</td>\n",
       "    </tr>\n",
       "    <tr>\n",
       "      <th>3583</th>\n",
       "      <td>ΚΑΡΒΟΥΝΑ</td>\n",
       "      <td>κάρβουνα πυρσός 5kg</td>\n",
       "      <td>NaN</td>\n",
       "      <td>5.00</td>\n",
       "      <td>5.50</td>\n",
       "      <td>3.99</td>\n",
       "      <td>4.69</td>\n",
       "      <td>3</td>\n",
       "      <td>2022</td>\n",
       "      <td>ΠαρατηρητήτιοΤιμώνΚαθαράςΔευτέρας</td>\n",
       "    </tr>\n",
       "    <tr>\n",
       "      <th>3584</th>\n",
       "      <td>ΚΑΡΒΟΥΝΑ</td>\n",
       "      <td>κάρβουνα ετοsha 5kg</td>\n",
       "      <td>NaN</td>\n",
       "      <td>5.00</td>\n",
       "      <td>5.28</td>\n",
       "      <td>3.99</td>\n",
       "      <td>4.50</td>\n",
       "      <td>3</td>\n",
       "      <td>2022</td>\n",
       "      <td>ΠαρατηρητήτιοΤιμώνΚαθαράςΔευτέρας</td>\n",
       "    </tr>\n",
       "  </tbody>\n",
       "</table>\n",
       "<p>213 rows × 10 columns</p>\n",
       "</div>"
      ],
      "text/plain": [
       "          type                                            product  \\\n",
       "1803      ΡΥΖΙ                    tilda pure basmati original 1kg   \n",
       "1804      ΡΥΖΙ     σολεας 3a rice glasse (σούπες και γεμιστά) 1kg   \n",
       "1805      ΡΥΖΙ  uncle bens ρύζι μακρύκοκκο - parboiled (20 λεπ...   \n",
       "1806      ΡΥΖΙ      σολεας 3a ρύζι basmati αυθεντικό αρωματικό1kg   \n",
       "1807      ΡΥΖΙ  σολεας 3a rice parboiled (πράσινη συσκευασία) 1kg   \n",
       "...        ...                                                ...   \n",
       "3580      ΨΩΜΙ                           ελιωτή χωριάτικη τεμάχιο   \n",
       "3581    ΚΡΑΣΙΑ                     keo othello (ερυθρό ξηρό) 75cl   \n",
       "3582    ΚΡΑΣΙΑ                       afames 62 (ερυθρό ξηρό) 75cl   \n",
       "3583  ΚΑΡΒΟΥΝΑ                                κάρβουνα πυρσός 5kg   \n",
       "3584  ΚΑΡΒΟΥΝΑ                                κάρβουνα ετοsha 5kg   \n",
       "\n",
       "     normalized_product  quantity   max   min   avg  month  year  \\\n",
       "1803                NaN      1.00  6.75  4.19  5.71      3  2022   \n",
       "1804                NaN      1.00  2.82  1.77  2.09      3  2022   \n",
       "1805                NaN      1.00  4.07  2.89  3.51      3  2022   \n",
       "1806                NaN      1.00  4.70  2.69  3.18      3  2022   \n",
       "1807                NaN      1.00  2.10  1.35  1.74      3  2022   \n",
       "...                 ...       ...   ...   ...   ...    ...   ...   \n",
       "3580                NaN      1.00  2.40  1.10  1.75      3  2022   \n",
       "3581                NaN      0.75  4.50  2.35  3.08      3  2022   \n",
       "3582                NaN      0.75  5.20  2.35  3.68      3  2022   \n",
       "3583                NaN      5.00  5.50  3.99  4.69      3  2022   \n",
       "3584                NaN      5.00  5.28  3.99  4.50      3  2022   \n",
       "\n",
       "                                   file  \n",
       "1803            ΒασικάΚαταναλωτικάΑγαθά  \n",
       "1804            ΒασικάΚαταναλωτικάΑγαθά  \n",
       "1805            ΒασικάΚαταναλωτικάΑγαθά  \n",
       "1806            ΒασικάΚαταναλωτικάΑγαθά  \n",
       "1807            ΒασικάΚαταναλωτικάΑγαθά  \n",
       "...                                 ...  \n",
       "3580  ΠαρατηρητήτιοΤιμώνΚαθαράςΔευτέρας  \n",
       "3581  ΠαρατηρητήτιοΤιμώνΚαθαράςΔευτέρας  \n",
       "3582  ΠαρατηρητήτιοΤιμώνΚαθαράςΔευτέρας  \n",
       "3583  ΠαρατηρητήτιοΤιμώνΚαθαράςΔευτέρας  \n",
       "3584  ΠαρατηρητήτιοΤιμώνΚαθαράςΔευτέρας  \n",
       "\n",
       "[213 rows x 10 columns]"
      ]
     },
     "execution_count": 4,
     "metadata": {},
     "output_type": "execute_result"
    }
   ],
   "source": [
    "gmComparison= newdata[(newdata['month'] == 3) & (newdata['year'] == 2022)]\n",
    "gmComparison"
   ]
  },
  {
   "cell_type": "markdown",
   "id": "da7fda71",
   "metadata": {},
   "source": [
    "#### Πατάτες Φρέσκες(kg)"
   ]
  },
  {
   "cell_type": "code",
   "execution_count": 5,
   "id": "4d87fd5c",
   "metadata": {},
   "outputs": [
    {
     "data": {
      "text/html": [
       "<div>\n",
       "<style scoped>\n",
       "    .dataframe tbody tr th:only-of-type {\n",
       "        vertical-align: middle;\n",
       "    }\n",
       "\n",
       "    .dataframe tbody tr th {\n",
       "        vertical-align: top;\n",
       "    }\n",
       "\n",
       "    .dataframe thead th {\n",
       "        text-align: right;\n",
       "    }\n",
       "</style>\n",
       "<table border=\"1\" class=\"dataframe\">\n",
       "  <thead>\n",
       "    <tr style=\"text-align: right;\">\n",
       "      <th></th>\n",
       "      <th>type</th>\n",
       "      <th>product</th>\n",
       "      <th>normalized_product</th>\n",
       "      <th>quantity</th>\n",
       "      <th>max</th>\n",
       "      <th>min</th>\n",
       "      <th>avg</th>\n",
       "      <th>month</th>\n",
       "      <th>year</th>\n",
       "      <th>file</th>\n",
       "    </tr>\n",
       "  </thead>\n",
       "  <tbody>\n",
       "    <tr>\n",
       "      <th>1928</th>\n",
       "      <td>ΧΟΡΤΑ</td>\n",
       "      <td>πατάτες φρέσκες (kg)</td>\n",
       "      <td>πατάτες φρέσκες (kg)</td>\n",
       "      <td>1.0</td>\n",
       "      <td>1.30</td>\n",
       "      <td>0.59</td>\n",
       "      <td>0.82</td>\n",
       "      <td>3</td>\n",
       "      <td>2022</td>\n",
       "      <td>ΒασικάΚαταναλωτικάΑγαθά</td>\n",
       "    </tr>\n",
       "    <tr>\n",
       "      <th>3543</th>\n",
       "      <td>ΧΟΡΤΑ</td>\n",
       "      <td>πατάτες φρέσκιες (kg)</td>\n",
       "      <td>πατάτες φρέσκες (kg)</td>\n",
       "      <td>1.0</td>\n",
       "      <td>0.85</td>\n",
       "      <td>0.29</td>\n",
       "      <td>0.55</td>\n",
       "      <td>3</td>\n",
       "      <td>2022</td>\n",
       "      <td>ΠαρατηρητήτιοΤιμώνΚαθαράςΔευτέρας</td>\n",
       "    </tr>\n",
       "  </tbody>\n",
       "</table>\n",
       "</div>"
      ],
      "text/plain": [
       "       type                product    normalized_product  quantity   max  \\\n",
       "1928  ΧΟΡΤΑ   πατάτες φρέσκες (kg)  πατάτες φρέσκες (kg)       1.0  1.30   \n",
       "3543  ΧΟΡΤΑ  πατάτες φρέσκιες (kg)  πατάτες φρέσκες (kg)       1.0  0.85   \n",
       "\n",
       "       min   avg  month  year                               file  \n",
       "1928  0.59  0.82      3  2022            ΒασικάΚαταναλωτικάΑγαθά  \n",
       "3543  0.29  0.55      3  2022  ΠαρατηρητήτιοΤιμώνΚαθαράςΔευτέρας  "
      ]
     },
     "execution_count": 5,
     "metadata": {},
     "output_type": "execute_result"
    }
   ],
   "source": [
    "temp = gmComparison[(gmComparison['normalized_product'] == 'πατάτες φρέσκες (kg)')]\n",
    "temp"
   ]
  },
  {
   "cell_type": "code",
   "execution_count": 6,
   "id": "a642fb84",
   "metadata": {},
   "outputs": [
    {
     "data": {
      "text/plain": [
       "Text(0, 0.5, 'Μέση Τιμή')"
      ]
     },
     "execution_count": 6,
     "metadata": {},
     "output_type": "execute_result"
    },
    {
     "data": {
      "image/png": "[encoded data removed]",
      "text/plain": [
       "<Figure size 360x504 with 3 Axes>"
      ]
     },
     "metadata": {
      "needs_background": "light"
     },
     "output_type": "display_data"
    }
   ],
   "source": [
    "fig, axes = plt.subplots(3, 1, figsize=(5,7))\n",
    "plt.suptitle('Σύγκριση Τιμών: Βασικά Καταναλωτικά Αγαθά - Καθαρά Δευτέρα 2022', color = 'C3', fontsize = 16)\n",
    "plt.xlabel('Πατάτες Φρέσκες(kg)', color = 'C0', labelpad = 20, fontsize = 12)\n",
    "\n",
    "axes[0].scatter(data=temp, x='file',y='min', color = 'green', alpha=0.8)\n",
    "axes[0].set_ylabel('Ελάχιστη Τιμή', color = 'C0', labelpad = 20, fontsize = 12)\n",
    "\n",
    "axes[1].scatter(data=temp, x='file',y='max', color = 'red', alpha=0.8)\n",
    "axes[1].set_ylabel('Μέγιστη Τιμή', color = 'C0', labelpad = 20, fontsize = 12)\n",
    "\n",
    "axes[2].scatter(data=temp, x='file',y='avg', color = 'b', alpha=0.8)\n",
    "axes[2].set_ylabel('Μέση Τιμή', color = 'C0', labelpad = 20, fontsize = 12)"
   ]
  },
  {
   "cell_type": "markdown",
   "id": "86f53ad4",
   "metadata": {},
   "source": [
    "#### Ντομάτες Α (kg)"
   ]
  },
  {
   "cell_type": "code",
   "execution_count": 7,
   "id": "ba19e8a1",
   "metadata": {},
   "outputs": [
    {
     "data": {
      "text/html": [
       "<div>\n",
       "<style scoped>\n",
       "    .dataframe tbody tr th:only-of-type {\n",
       "        vertical-align: middle;\n",
       "    }\n",
       "\n",
       "    .dataframe tbody tr th {\n",
       "        vertical-align: top;\n",
       "    }\n",
       "\n",
       "    .dataframe thead th {\n",
       "        text-align: right;\n",
       "    }\n",
       "</style>\n",
       "<table border=\"1\" class=\"dataframe\">\n",
       "  <thead>\n",
       "    <tr style=\"text-align: right;\">\n",
       "      <th></th>\n",
       "      <th>type</th>\n",
       "      <th>product</th>\n",
       "      <th>normalized_product</th>\n",
       "      <th>quantity</th>\n",
       "      <th>max</th>\n",
       "      <th>min</th>\n",
       "      <th>avg</th>\n",
       "      <th>month</th>\n",
       "      <th>year</th>\n",
       "      <th>file</th>\n",
       "    </tr>\n",
       "  </thead>\n",
       "  <tbody>\n",
       "    <tr>\n",
       "      <th>1929</th>\n",
       "      <td>ΧΟΡΤΑ</td>\n",
       "      <td>ντομάτες α (kg)</td>\n",
       "      <td>ντομάτες α (kg)</td>\n",
       "      <td>1.0</td>\n",
       "      <td>2.55</td>\n",
       "      <td>1.10</td>\n",
       "      <td>1.81</td>\n",
       "      <td>3</td>\n",
       "      <td>2022</td>\n",
       "      <td>ΒασικάΚαταναλωτικάΑγαθά</td>\n",
       "    </tr>\n",
       "    <tr>\n",
       "      <th>3544</th>\n",
       "      <td>ΧΟΡΤΑ</td>\n",
       "      <td>ντομάτες α (kg)</td>\n",
       "      <td>ντομάτες α (kg)</td>\n",
       "      <td>1.0</td>\n",
       "      <td>1.95</td>\n",
       "      <td>1.35</td>\n",
       "      <td>1.67</td>\n",
       "      <td>3</td>\n",
       "      <td>2022</td>\n",
       "      <td>ΠαρατηρητήτιοΤιμώνΚαθαράςΔευτέρας</td>\n",
       "    </tr>\n",
       "  </tbody>\n",
       "</table>\n",
       "</div>"
      ],
      "text/plain": [
       "       type          product normalized_product  quantity   max   min   avg  \\\n",
       "1929  ΧΟΡΤΑ  ντομάτες α (kg)    ντομάτες α (kg)       1.0  2.55  1.10  1.81   \n",
       "3544  ΧΟΡΤΑ  ντομάτες α (kg)    ντομάτες α (kg)       1.0  1.95  1.35  1.67   \n",
       "\n",
       "      month  year                               file  \n",
       "1929      3  2022            ΒασικάΚαταναλωτικάΑγαθά  \n",
       "3544      3  2022  ΠαρατηρητήτιοΤιμώνΚαθαράςΔευτέρας  "
      ]
     },
     "execution_count": 7,
     "metadata": {},
     "output_type": "execute_result"
    }
   ],
   "source": [
    "temp = gmComparison[(gmComparison['normalized_product'] == 'ντομάτες α (kg)')]\n",
    "temp"
   ]
  },
  {
   "cell_type": "code",
   "execution_count": 8,
   "id": "7154b4f1",
   "metadata": {},
   "outputs": [
    {
     "data": {
      "text/plain": [
       "Text(0, 0.5, 'Μέση Τιμή')"
      ]
     },
     "execution_count": 8,
     "metadata": {},
     "output_type": "execute_result"
    },
    {
     "data": {
      "image/png": "[encoded data removed]",
      "text/plain": [
       "<Figure size 360x504 with 3 Axes>"
      ]
     },
     "metadata": {
      "needs_background": "light"
     },
     "output_type": "display_data"
    }
   ],
   "source": [
    "fig, axes = plt.subplots(3, 1, figsize=(5,7))\n",
    "plt.suptitle('Σύγκριση Τιμών: Βασικά Καταναλωτικά Αγαθά - Καθαρά Δευτέρα 2022', color = 'C3', fontsize = 16)\n",
    "plt.xlabel('Ντομάτες Α (kg)', color = 'C0', labelpad = 20, fontsize = 12)\n",
    "\n",
    "axes[0].scatter(data=temp, x='file',y='min', color = 'green', alpha=0.8)\n",
    "axes[0].set_ylabel('Ελάχιστη Τιμή', color = 'C0', labelpad = 20, fontsize = 12)\n",
    "\n",
    "axes[1].scatter(data=temp, x='file',y='max', color = 'red', alpha=0.8)\n",
    "axes[1].set_ylabel('Μέγιστη Τιμή', color = 'C0', labelpad = 20, fontsize = 12)\n",
    "\n",
    "axes[2].scatter(data=temp, x='file',y='avg', color = 'b', alpha=0.8)\n",
    "axes[2].set_ylabel('Μέση Τιμή', color = 'C0', labelpad = 20, fontsize = 12)"
   ]
  },
  {
   "cell_type": "markdown",
   "id": "af5b6e6d",
   "metadata": {},
   "source": [
    "#### Αγγουράκια Θερμοκηπίου (kg)"
   ]
  },
  {
   "cell_type": "code",
   "execution_count": 9,
   "id": "a2a5fb12",
   "metadata": {},
   "outputs": [
    {
     "data": {
      "text/html": [
       "<div>\n",
       "<style scoped>\n",
       "    .dataframe tbody tr th:only-of-type {\n",
       "        vertical-align: middle;\n",
       "    }\n",
       "\n",
       "    .dataframe tbody tr th {\n",
       "        vertical-align: top;\n",
       "    }\n",
       "\n",
       "    .dataframe thead th {\n",
       "        text-align: right;\n",
       "    }\n",
       "</style>\n",
       "<table border=\"1\" class=\"dataframe\">\n",
       "  <thead>\n",
       "    <tr style=\"text-align: right;\">\n",
       "      <th></th>\n",
       "      <th>type</th>\n",
       "      <th>product</th>\n",
       "      <th>normalized_product</th>\n",
       "      <th>quantity</th>\n",
       "      <th>max</th>\n",
       "      <th>min</th>\n",
       "      <th>avg</th>\n",
       "      <th>month</th>\n",
       "      <th>year</th>\n",
       "      <th>file</th>\n",
       "    </tr>\n",
       "  </thead>\n",
       "  <tbody>\n",
       "    <tr>\n",
       "      <th>1930</th>\n",
       "      <td>ΧΟΡΤΑ</td>\n",
       "      <td>αγγουράκια θερμοκηπίου (kg)</td>\n",
       "      <td>αγγουράκια θερμοκηπίου (kg)</td>\n",
       "      <td>1.0</td>\n",
       "      <td>4.5</td>\n",
       "      <td>2.90</td>\n",
       "      <td>3.98</td>\n",
       "      <td>3</td>\n",
       "      <td>2022</td>\n",
       "      <td>ΒασικάΚαταναλωτικάΑγαθά</td>\n",
       "    </tr>\n",
       "    <tr>\n",
       "      <th>3545</th>\n",
       "      <td>ΧΟΡΤΑ</td>\n",
       "      <td>αγγουράκια θερμοκηπίου (kg)</td>\n",
       "      <td>αγγουράκια θερμοκηπίου (kg)</td>\n",
       "      <td>1.0</td>\n",
       "      <td>2.0</td>\n",
       "      <td>0.55</td>\n",
       "      <td>1.72</td>\n",
       "      <td>3</td>\n",
       "      <td>2022</td>\n",
       "      <td>ΠαρατηρητήτιοΤιμώνΚαθαράςΔευτέρας</td>\n",
       "    </tr>\n",
       "  </tbody>\n",
       "</table>\n",
       "</div>"
      ],
      "text/plain": [
       "       type                      product           normalized_product  \\\n",
       "1930  ΧΟΡΤΑ  αγγουράκια θερμοκηπίου (kg)  αγγουράκια θερμοκηπίου (kg)   \n",
       "3545  ΧΟΡΤΑ  αγγουράκια θερμοκηπίου (kg)  αγγουράκια θερμοκηπίου (kg)   \n",
       "\n",
       "      quantity  max   min   avg  month  year  \\\n",
       "1930       1.0  4.5  2.90  3.98      3  2022   \n",
       "3545       1.0  2.0  0.55  1.72      3  2022   \n",
       "\n",
       "                                   file  \n",
       "1930            ΒασικάΚαταναλωτικάΑγαθά  \n",
       "3545  ΠαρατηρητήτιοΤιμώνΚαθαράςΔευτέρας  "
      ]
     },
     "execution_count": 9,
     "metadata": {},
     "output_type": "execute_result"
    }
   ],
   "source": [
    "temp = gmComparison[(gmComparison['normalized_product'] == 'αγγουράκια θερμοκηπίου (kg)')]\n",
    "temp"
   ]
  },
  {
   "cell_type": "code",
   "execution_count": 10,
   "id": "8d5a5a38",
   "metadata": {},
   "outputs": [
    {
     "data": {
      "text/plain": [
       "Text(0, 0.5, 'Μέση Τιμή')"
      ]
     },
     "execution_count": 10,
     "metadata": {},
     "output_type": "execute_result"
    },
    {
     "data": {
      "image/png": "[encoded data removed]",
      "text/plain": [
       "<Figure size 360x504 with 3 Axes>"
      ]
     },
     "metadata": {
      "needs_background": "light"
     },
     "output_type": "display_data"
    }
   ],
   "source": [
    "fig, axes = plt.subplots(3, 1, figsize=(5,7))\n",
    "plt.suptitle('Σύγκριση Τιμών: Βασικά Καταναλωτικά Αγαθά - Καθαρά Δευτέρα 2022', color = 'C3', fontsize = 16)\n",
    "plt.xlabel('Αγγουράκια Θερμοκηπίου (kg)', color = 'C0', labelpad = 20, fontsize = 12)\n",
    "\n",
    "axes[0].scatter(data=temp, x='file',y='min', color = 'green', alpha=0.8)\n",
    "axes[0].set_ylabel('Ελάχιστη Τιμή', color = 'C0', labelpad = 20, fontsize = 12)\n",
    "\n",
    "axes[1].scatter(data=temp, x='file',y='max', color = 'red', alpha=0.8)\n",
    "axes[1].set_ylabel('Μέγιστη Τιμή', color = 'C0', labelpad = 20, fontsize = 12)\n",
    "\n",
    "axes[2].scatter(data=temp, x='file',y='avg', color = 'b', alpha=0.8)\n",
    "axes[2].set_ylabel('Μέση Τιμή', color = 'C0', labelpad = 20, fontsize = 12)"
   ]
  },
  {
   "cell_type": "markdown",
   "id": "ca15def6",
   "metadata": {},
   "source": [
    "#### Αγγουράκια Χωραφιού (kg)\t"
   ]
  },
  {
   "cell_type": "code",
   "execution_count": 11,
   "id": "6e94f9f7",
   "metadata": {},
   "outputs": [
    {
     "data": {
      "text/html": [
       "<div>\n",
       "<style scoped>\n",
       "    .dataframe tbody tr th:only-of-type {\n",
       "        vertical-align: middle;\n",
       "    }\n",
       "\n",
       "    .dataframe tbody tr th {\n",
       "        vertical-align: top;\n",
       "    }\n",
       "\n",
       "    .dataframe thead th {\n",
       "        text-align: right;\n",
       "    }\n",
       "</style>\n",
       "<table border=\"1\" class=\"dataframe\">\n",
       "  <thead>\n",
       "    <tr style=\"text-align: right;\">\n",
       "      <th></th>\n",
       "      <th>type</th>\n",
       "      <th>product</th>\n",
       "      <th>normalized_product</th>\n",
       "      <th>quantity</th>\n",
       "      <th>max</th>\n",
       "      <th>min</th>\n",
       "      <th>avg</th>\n",
       "      <th>month</th>\n",
       "      <th>year</th>\n",
       "      <th>file</th>\n",
       "    </tr>\n",
       "  </thead>\n",
       "  <tbody>\n",
       "    <tr>\n",
       "      <th>1931</th>\n",
       "      <td>ΧΟΡΤΑ</td>\n",
       "      <td>αγγουράκια χωραφιού (kg)</td>\n",
       "      <td>αγγουράκια χωραφιού (kg)</td>\n",
       "      <td>1.0</td>\n",
       "      <td>5.85</td>\n",
       "      <td>1.99</td>\n",
       "      <td>4.89</td>\n",
       "      <td>3</td>\n",
       "      <td>2022</td>\n",
       "      <td>ΒασικάΚαταναλωτικάΑγαθά</td>\n",
       "    </tr>\n",
       "    <tr>\n",
       "      <th>3546</th>\n",
       "      <td>ΧΟΡΤΑ</td>\n",
       "      <td>αγγουράκια χωραφιού (kg)</td>\n",
       "      <td>αγγουράκια χωραφιού (kg)</td>\n",
       "      <td>1.0</td>\n",
       "      <td>3.75</td>\n",
       "      <td>2.99</td>\n",
       "      <td>3.89</td>\n",
       "      <td>3</td>\n",
       "      <td>2022</td>\n",
       "      <td>ΠαρατηρητήτιοΤιμώνΚαθαράςΔευτέρας</td>\n",
       "    </tr>\n",
       "  </tbody>\n",
       "</table>\n",
       "</div>"
      ],
      "text/plain": [
       "       type                   product        normalized_product  quantity  \\\n",
       "1931  ΧΟΡΤΑ  αγγουράκια χωραφιού (kg)  αγγουράκια χωραφιού (kg)       1.0   \n",
       "3546  ΧΟΡΤΑ  αγγουράκια χωραφιού (kg)  αγγουράκια χωραφιού (kg)       1.0   \n",
       "\n",
       "       max   min   avg  month  year                               file  \n",
       "1931  5.85  1.99  4.89      3  2022            ΒασικάΚαταναλωτικάΑγαθά  \n",
       "3546  3.75  2.99  3.89      3  2022  ΠαρατηρητήτιοΤιμώνΚαθαράςΔευτέρας  "
      ]
     },
     "execution_count": 11,
     "metadata": {},
     "output_type": "execute_result"
    }
   ],
   "source": [
    "temp = gmComparison[(gmComparison['normalized_product'] == 'αγγουράκια χωραφιού (kg)')]\n",
    "temp"
   ]
  },
  {
   "cell_type": "code",
   "execution_count": 12,
   "id": "77dd5f89",
   "metadata": {},
   "outputs": [
    {
     "data": {
      "text/plain": [
       "Text(0, 0.5, 'Μέση Τιμή')"
      ]
     },
     "execution_count": 12,
     "metadata": {},
     "output_type": "execute_result"
    },
    {
     "data": {
      "image/png": "[encoded data removed]",
      "text/plain": [
       "<Figure size 360x504 with 3 Axes>"
      ]
     },
     "metadata": {
      "needs_background": "light"
     },
     "output_type": "display_data"
    }
   ],
   "source": [
    "fig, axes = plt.subplots(3, 1, figsize=(5,7))\n",
    "plt.suptitle('Σύγκριση Τιμών: Βασικά Καταναλωτικά Αγαθά - Καθαρά Δευτέρα 2022', color = 'C3', fontsize = 16)\n",
    "plt.xlabel('Αγγουράκια Χωραφιού (kg)', color = 'C0', labelpad = 20, fontsize = 12)\n",
    "\n",
    "axes[0].scatter(data=temp, x='file',y='min', color = 'green', alpha=0.8)\n",
    "axes[0].set_ylabel('Ελάχιστη Τιμή', color = 'C0', labelpad = 20, fontsize = 12)\n",
    "\n",
    "axes[1].scatter(data=temp, x='file',y='max', color = 'red', alpha=0.8)\n",
    "axes[1].set_ylabel('Μέγιστη Τιμή', color = 'C0', labelpad = 20, fontsize = 12)\n",
    "\n",
    "axes[2].scatter(data=temp, x='file',y='avg', color = 'b', alpha=0.8)\n",
    "axes[2].set_ylabel('Μέση Τιμή', color = 'C0', labelpad = 20, fontsize = 12)"
   ]
  },
  {
   "cell_type": "markdown",
   "id": "db449d41",
   "metadata": {},
   "source": [
    "#### Καλαμάρι Μεγάλο (kg)"
   ]
  },
  {
   "cell_type": "code",
   "execution_count": 13,
   "id": "e654db8c",
   "metadata": {},
   "outputs": [
    {
     "data": {
      "text/html": [
       "<div>\n",
       "<style scoped>\n",
       "    .dataframe tbody tr th:only-of-type {\n",
       "        vertical-align: middle;\n",
       "    }\n",
       "\n",
       "    .dataframe tbody tr th {\n",
       "        vertical-align: top;\n",
       "    }\n",
       "\n",
       "    .dataframe thead th {\n",
       "        text-align: right;\n",
       "    }\n",
       "</style>\n",
       "<table border=\"1\" class=\"dataframe\">\n",
       "  <thead>\n",
       "    <tr style=\"text-align: right;\">\n",
       "      <th></th>\n",
       "      <th>type</th>\n",
       "      <th>product</th>\n",
       "      <th>normalized_product</th>\n",
       "      <th>quantity</th>\n",
       "      <th>max</th>\n",
       "      <th>min</th>\n",
       "      <th>avg</th>\n",
       "      <th>month</th>\n",
       "      <th>year</th>\n",
       "      <th>file</th>\n",
       "    </tr>\n",
       "  </thead>\n",
       "  <tbody>\n",
       "    <tr>\n",
       "      <th>1945</th>\n",
       "      <td>ΦΡΕΣΚΑ ΨΑΡΙΑ/ΜΑΛΑΚΙΑ</td>\n",
       "      <td>καλαμάρι μεγάλο (kg)</td>\n",
       "      <td>καλαμάρι μεγάλο (kg)</td>\n",
       "      <td>1.0</td>\n",
       "      <td>18.99</td>\n",
       "      <td>9.95</td>\n",
       "      <td>16.49</td>\n",
       "      <td>3</td>\n",
       "      <td>2022</td>\n",
       "      <td>ΒασικάΚαταναλωτικάΑγαθά</td>\n",
       "    </tr>\n",
       "    <tr>\n",
       "      <th>3573</th>\n",
       "      <td>ΦΡΕΣΚΑ ΨΑΡΙΑ/ΜΑΛΑΚΙΑ</td>\n",
       "      <td>kαλαμάρι φρέσκο μεγάλο (kg)</td>\n",
       "      <td>καλαμάρι μεγάλο (kg)</td>\n",
       "      <td>1.0</td>\n",
       "      <td>19.85</td>\n",
       "      <td>11.89</td>\n",
       "      <td>16.40</td>\n",
       "      <td>3</td>\n",
       "      <td>2022</td>\n",
       "      <td>ΠαρατηρητήτιοΤιμώνΚαθαράςΔευτέρας</td>\n",
       "    </tr>\n",
       "  </tbody>\n",
       "</table>\n",
       "</div>"
      ],
      "text/plain": [
       "                      type                      product    normalized_product  \\\n",
       "1945  ΦΡΕΣΚΑ ΨΑΡΙΑ/ΜΑΛΑΚΙΑ         καλαμάρι μεγάλο (kg)  καλαμάρι μεγάλο (kg)   \n",
       "3573  ΦΡΕΣΚΑ ΨΑΡΙΑ/ΜΑΛΑΚΙΑ  kαλαμάρι φρέσκο μεγάλο (kg)  καλαμάρι μεγάλο (kg)   \n",
       "\n",
       "      quantity    max    min    avg  month  year  \\\n",
       "1945       1.0  18.99   9.95  16.49      3  2022   \n",
       "3573       1.0  19.85  11.89  16.40      3  2022   \n",
       "\n",
       "                                   file  \n",
       "1945            ΒασικάΚαταναλωτικάΑγαθά  \n",
       "3573  ΠαρατηρητήτιοΤιμώνΚαθαράςΔευτέρας  "
      ]
     },
     "execution_count": 13,
     "metadata": {},
     "output_type": "execute_result"
    }
   ],
   "source": [
    "temp = gmComparison[(gmComparison['normalized_product'] == 'καλαμάρι μεγάλο (kg)')]\n",
    "temp"
   ]
  },
  {
   "cell_type": "code",
   "execution_count": 14,
   "id": "cd7dc0a0",
   "metadata": {},
   "outputs": [
    {
     "data": {
      "text/plain": [
       "Text(0, 0.5, 'Μέση Τιμή')"
      ]
     },
     "execution_count": 14,
     "metadata": {},
     "output_type": "execute_result"
    },
    {
     "data": {
      "image/png": "[encoded data removed]",
      "text/plain": [
       "<Figure size 360x504 with 3 Axes>"
      ]
     },
     "metadata": {
      "needs_background": "light"
     },
     "output_type": "display_data"
    }
   ],
   "source": [
    "fig, axes = plt.subplots(3, 1, figsize=(5,7))\n",
    "plt.suptitle('Σύγκριση Τιμών: Βασικά Καταναλωτικά Αγαθά - Καθαρά Δευτέρα 2022', color = 'C3', fontsize = 16)\n",
    "plt.xlabel('Καλαμάρι Μεγάλο (kg)', color = 'C0', labelpad = 20, fontsize = 12)\n",
    "\n",
    "axes[0].scatter(data=temp, x='file',y='min', color = 'green', alpha=0.8)\n",
    "axes[0].set_ylabel('Ελάχιστη Τιμή', color = 'C0', labelpad = 20, fontsize = 12)\n",
    "\n",
    "axes[1].scatter(data=temp, x='file',y='max', color = 'red', alpha=0.8)\n",
    "axes[1].set_ylabel('Μέγιστη Τιμή', color = 'C0', labelpad = 20, fontsize = 12)\n",
    "\n",
    "axes[2].scatter(data=temp, x='file',y='avg', color = 'b', alpha=0.8)\n",
    "axes[2].set_ylabel('Μέση Τιμή', color = 'C0', labelpad = 20, fontsize = 12)"
   ]
  },
  {
   "cell_type": "markdown",
   "id": "07943ba1",
   "metadata": {},
   "source": [
    "#### Χταπόδι Μεγάλο (kg)"
   ]
  },
  {
   "cell_type": "code",
   "execution_count": 15,
   "id": "9c2abb00",
   "metadata": {},
   "outputs": [
    {
     "data": {
      "text/html": [
       "<div>\n",
       "<style scoped>\n",
       "    .dataframe tbody tr th:only-of-type {\n",
       "        vertical-align: middle;\n",
       "    }\n",
       "\n",
       "    .dataframe tbody tr th {\n",
       "        vertical-align: top;\n",
       "    }\n",
       "\n",
       "    .dataframe thead th {\n",
       "        text-align: right;\n",
       "    }\n",
       "</style>\n",
       "<table border=\"1\" class=\"dataframe\">\n",
       "  <thead>\n",
       "    <tr style=\"text-align: right;\">\n",
       "      <th></th>\n",
       "      <th>type</th>\n",
       "      <th>product</th>\n",
       "      <th>normalized_product</th>\n",
       "      <th>quantity</th>\n",
       "      <th>max</th>\n",
       "      <th>min</th>\n",
       "      <th>avg</th>\n",
       "      <th>month</th>\n",
       "      <th>year</th>\n",
       "      <th>file</th>\n",
       "    </tr>\n",
       "  </thead>\n",
       "  <tbody>\n",
       "    <tr>\n",
       "      <th>1947</th>\n",
       "      <td>ΦΡΕΣΚΑ ΨΑΡΙΑ/ΜΑΛΑΚΙΑ</td>\n",
       "      <td>χταπόδι μεγάλο (kg)</td>\n",
       "      <td>χταπόδι μεγάλο (kg)</td>\n",
       "      <td>1.0</td>\n",
       "      <td>21.95</td>\n",
       "      <td>14.49</td>\n",
       "      <td>18.40</td>\n",
       "      <td>3</td>\n",
       "      <td>2022</td>\n",
       "      <td>ΒασικάΚαταναλωτικάΑγαθά</td>\n",
       "    </tr>\n",
       "    <tr>\n",
       "      <th>3575</th>\n",
       "      <td>ΦΡΕΣΚΑ ΨΑΡΙΑ/ΜΑΛΑΚΙΑ</td>\n",
       "      <td>οκταπόδι φρέσκο μεγάλο (kg)</td>\n",
       "      <td>χταπόδι μεγάλο (kg)</td>\n",
       "      <td>1.0</td>\n",
       "      <td>16.95</td>\n",
       "      <td>15.21</td>\n",
       "      <td>12.99</td>\n",
       "      <td>3</td>\n",
       "      <td>2022</td>\n",
       "      <td>ΠαρατηρητήτιοΤιμώνΚαθαράςΔευτέρας</td>\n",
       "    </tr>\n",
       "  </tbody>\n",
       "</table>\n",
       "</div>"
      ],
      "text/plain": [
       "                      type                      product   normalized_product  \\\n",
       "1947  ΦΡΕΣΚΑ ΨΑΡΙΑ/ΜΑΛΑΚΙΑ          χταπόδι μεγάλο (kg)  χταπόδι μεγάλο (kg)   \n",
       "3575  ΦΡΕΣΚΑ ΨΑΡΙΑ/ΜΑΛΑΚΙΑ  οκταπόδι φρέσκο μεγάλο (kg)  χταπόδι μεγάλο (kg)   \n",
       "\n",
       "      quantity    max    min    avg  month  year  \\\n",
       "1947       1.0  21.95  14.49  18.40      3  2022   \n",
       "3575       1.0  16.95  15.21  12.99      3  2022   \n",
       "\n",
       "                                   file  \n",
       "1947            ΒασικάΚαταναλωτικάΑγαθά  \n",
       "3575  ΠαρατηρητήτιοΤιμώνΚαθαράςΔευτέρας  "
      ]
     },
     "execution_count": 15,
     "metadata": {},
     "output_type": "execute_result"
    }
   ],
   "source": [
    "temp = gmComparison[(gmComparison['normalized_product'] == 'χταπόδι μεγάλο (kg)')]\n",
    "temp"
   ]
  },
  {
   "cell_type": "code",
   "execution_count": 16,
   "id": "6160b738",
   "metadata": {},
   "outputs": [
    {
     "data": {
      "text/plain": [
       "Text(0, 0.5, 'Μέση Τιμή')"
      ]
     },
     "execution_count": 16,
     "metadata": {},
     "output_type": "execute_result"
    },
    {
     "data": {
      "image/png": "[encoded data removed]",
      "text/plain": [
       "<Figure size 360x504 with 3 Axes>"
      ]
     },
     "metadata": {
      "needs_background": "light"
     },
     "output_type": "display_data"
    }
   ],
   "source": [
    "fig, axes = plt.subplots(3, 1, figsize=(5,7))\n",
    "plt.suptitle('Σύγκριση Τιμών: Βασικά Καταναλωτικά Αγαθά - Καθαρά Δευτέρα 2022', color = 'C3', fontsize = 16)\n",
    "plt.xlabel('Χταπόδι Μεγάλο (kg)', color = 'C0', labelpad = 20, fontsize = 12)\n",
    "\n",
    "axes[0].scatter(data=temp, x='file',y='min', color = 'green', alpha=0.8)\n",
    "axes[0].set_ylabel('Ελάχιστη Τιμή', color = 'C0', labelpad = 20, fontsize = 12)\n",
    "\n",
    "axes[1].scatter(data=temp, x='file',y='max', color = 'red', alpha=0.8)\n",
    "axes[1].set_ylabel('Μέγιστη Τιμή', color = 'C0', labelpad = 20, fontsize = 12)\n",
    "\n",
    "axes[2].scatter(data=temp, x='file',y='avg', color = 'b', alpha=0.8)\n",
    "axes[2].set_ylabel('Μέση Τιμή', color = 'C0', labelpad = 20, fontsize = 12)"
   ]
  }
 ],
 "metadata": {
  "kernelspec": {
   "display_name": "Python 3 (ipykernel)",
   "language": "python",
   "name": "python3"
  },
  "language_info": {
   "codemirror_mode": {
    "name": "ipython",
    "version": 3
   },
   "file_extension": ".py",
   "mimetype": "text/x-python",
   "name": "python",
   "nbconvert_exporter": "python",
   "pygments_lexer": "ipython3",
   "version": "3.9.12"
  },
  "vscode": {
   "interpreter": {
    "hash": "78e82d01f180cfce426344f6c9e6de9ce9b385c3e5061ddeba99467fce072368"
   }
  }
 },
 "nbformat": 4,
 "nbformat_minor": 5
}
