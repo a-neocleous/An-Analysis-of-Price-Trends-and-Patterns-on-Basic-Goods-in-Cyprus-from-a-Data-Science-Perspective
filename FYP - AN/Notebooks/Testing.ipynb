{
 "cells": [
  {
   "cell_type": "code",
   "execution_count": null,
   "id": "f6175fee",
   "metadata": {},
   "outputs": [],
   "source": [
    "import pandas as pd\n",
    "import numpy as np"
   ]
  },
  {
   "cell_type": "code",
   "execution_count": null,
   "id": "0c52a71a",
   "metadata": {},
   "outputs": [],
   "source": [
    "#data = pd.read_excel('Data/Basic/Dec2022.xlsx') \n",
    "data = pd.read_excel('Nov2022.xlsx', sheet_name='Final')\n",
    "df = pd.DataFrame(data)\n",
    "df"
   ]
  },
  {
   "cell_type": "code",
   "execution_count": null,
   "id": "9d94b975",
   "metadata": {},
   "outputs": [],
   "source": [
    "data2 = pd.read_excel('Jan2023.xlsx', sheet_name='Final')\n",
    "df2 = pd.DataFrame(data2)\n",
    "df2"
   ]
  },
  {
   "cell_type": "code",
   "execution_count": null,
   "id": "ff55a4a1",
   "metadata": {},
   "outputs": [],
   "source": [
    "final = pd.concat([df, df2], axis=0)\n",
    "final"
   ]
  },
  {
   "cell_type": "code",
   "execution_count": null,
   "id": "5fc859d2",
   "metadata": {},
   "outputs": [],
   "source": [
    "final.to_csv('test.csv')"
   ]
  },
  {
   "cell_type": "code",
   "execution_count": null,
   "id": "c837b172",
   "metadata": {},
   "outputs": [],
   "source": [
    "final.to_excel('test2.xlsx')"
   ]
  },
  {
   "cell_type": "code",
   "execution_count": null,
   "id": "c0b7d614",
   "metadata": {},
   "outputs": [],
   "source": []
  },
  {
   "cell_type": "code",
   "execution_count": null,
   "id": "a776a6ac",
   "metadata": {},
   "outputs": [],
   "source": []
  },
  {
   "attachments": {},
   "cell_type": "markdown",
   "id": "cf2c973e",
   "metadata": {},
   "source": [
    "# Christmas"
   ]
  },
  {
   "cell_type": "code",
   "execution_count": null,
   "id": "b8ec1c33",
   "metadata": {},
   "outputs": [],
   "source": [
    "import pandas as pd\n",
    "import numpy as np"
   ]
  },
  {
   "cell_type": "code",
   "execution_count": null,
   "id": "84024afe",
   "metadata": {},
   "outputs": [],
   "source": [
    "data = pd.read_excel('../Data/FinalData/Final.xlsx')\n",
    "\n",
    "df = pd.DataFrame(data)\n",
    "df = df.drop(\"Unnamed: 0\",axis=1)\n",
    "df"
   ]
  },
  {
   "cell_type": "code",
   "execution_count": null,
   "id": "7dec93f1",
   "metadata": {},
   "outputs": [],
   "source": [
    "xmas = df[(df['file'] == 'ΠαρατηρητήτιοΤιμώνΧριστουγέννων')]\n",
    "xmas['product'] = xmas['product'].str.lower()\n",
    "xmas"
   ]
  },
  {
   "cell_type": "code",
   "execution_count": null,
   "id": "a3f96796",
   "metadata": {},
   "outputs": [],
   "source": [
    "xmas[xmas['product'].str.find('χοιρινή μπριζόλα φιλέτο')!= -1]"
   ]
  },
  {
   "cell_type": "code",
   "execution_count": null,
   "id": "07fb3e59",
   "metadata": {},
   "outputs": [],
   "source": [
    "xmas[xmas['product'].str.find('κοτόπουλο ολόκληρο')!= -1]"
   ]
  },
  {
   "cell_type": "code",
   "execution_count": null,
   "id": "4a6b869c",
   "metadata": {},
   "outputs": [],
   "source": [
    "xmas[xmas['product'].str.find('κοτόπουλο φιλέτο')!= -1]"
   ]
  },
  {
   "cell_type": "code",
   "execution_count": null,
   "id": "de404683",
   "metadata": {},
   "outputs": [],
   "source": [
    "xmas[xmas['product'].str.find('αμνοερίφια μικρά ντόπια')!= -1]"
   ]
  },
  {
   "cell_type": "code",
   "execution_count": null,
   "id": "f2b6dd5e",
   "metadata": {},
   "outputs": [],
   "source": [
    "xmas[xmas['product'].str.find('αμνοερίφια μικρά εισαγόμενα')!= -1]"
   ]
  },
  {
   "cell_type": "code",
   "execution_count": null,
   "id": "277ac20f",
   "metadata": {},
   "outputs": [],
   "source": [
    "xmas[xmas['product'].str.find('μοσχαρίσιος κιμάς')!= -1]"
   ]
  },
  {
   "cell_type": "code",
   "execution_count": null,
   "id": "e35fd1f3",
   "metadata": {},
   "outputs": [],
   "source": [
    "xmas[xmas['product'].str.find('γαλοπούλα ντόπια')!= -1]"
   ]
  },
  {
   "cell_type": "code",
   "execution_count": null,
   "id": "6768c7fd",
   "metadata": {},
   "outputs": [],
   "source": [
    "xmas[xmas['product'].str.find('γαλοπούλα εισαγόμενη ')!= -1]"
   ]
  },
  {
   "cell_type": "code",
   "execution_count": null,
   "id": "0c730261",
   "metadata": {},
   "outputs": [],
   "source": [
    "xmas[xmas['product'].str.find('μελομακάρονα /kg')!= -1]"
   ]
  },
  {
   "cell_type": "code",
   "execution_count": null,
   "id": "3ef208f1",
   "metadata": {},
   "outputs": [],
   "source": [
    "xmas[xmas['product'].str.find('κουραμπιέδες αμυγδάλου')!= -1]"
   ]
  },
  {
   "cell_type": "code",
   "execution_count": null,
   "id": "dceebd0c",
   "metadata": {},
   "outputs": [],
   "source": [
    "xmas[xmas['product'].str.find('christmas cake')!= -1]"
   ]
  },
  {
   "cell_type": "markdown",
   "id": "2e650767",
   "metadata": {},
   "source": [
    "# Easter"
   ]
  },
  {
   "cell_type": "code",
   "execution_count": null,
   "id": "90f94314",
   "metadata": {},
   "outputs": [],
   "source": [
    "import pandas as pd\n",
    "import numpy as np"
   ]
  },
  {
   "cell_type": "code",
   "execution_count": null,
   "id": "fa4f8bb8",
   "metadata": {},
   "outputs": [],
   "source": [
    "data = pd.read_excel('../Data/FinalData/Final.xlsx')\n",
    "\n",
    "df = pd.DataFrame(data)\n",
    "df = df.drop(\"Unnamed: 0\",axis=1)\n",
    "df"
   ]
  },
  {
   "cell_type": "code",
   "execution_count": null,
   "id": "c831ee70",
   "metadata": {},
   "outputs": [],
   "source": [
    "easter = df[(df['file'] == 'ΠαρατηρητήτιοΤιμώνΠάσχα')]\n",
    "easter['product'] = easter['product'].str.lower()\n",
    "easter"
   ]
  },
  {
   "cell_type": "code",
   "execution_count": null,
   "id": "8e151368",
   "metadata": {},
   "outputs": [],
   "source": [
    "easter[easter['product'].str.find('χοιρινή μπριζόλα')!= -1]"
   ]
  },
  {
   "cell_type": "code",
   "execution_count": null,
   "id": "a1ae77dd",
   "metadata": {},
   "outputs": [],
   "source": [
    "easter[easter['product'].str.find('κοτόπουλο ολόκληρο')!= -1]"
   ]
  },
  {
   "cell_type": "code",
   "execution_count": null,
   "id": "08a2b932",
   "metadata": {},
   "outputs": [],
   "source": [
    "easter[easter['product'].str.find('κοτόπουλο στήθος φιλέττο')!= -1]"
   ]
  },
  {
   "cell_type": "code",
   "execution_count": null,
   "id": "3abcb6df",
   "metadata": {},
   "outputs": [],
   "source": [
    "easter[easter['product'].str.find('αμνοερίφια μικρά ντόπια')!= -1]"
   ]
  },
  {
   "cell_type": "code",
   "execution_count": null,
   "id": "5694b52a",
   "metadata": {},
   "outputs": [],
   "source": [
    "easter[easter['product'].str.find('βοδινός κιμάς')!= -1]"
   ]
  },
  {
   "cell_type": "code",
   "execution_count": null,
   "id": "b83e5983",
   "metadata": {},
   "outputs": [],
   "source": [
    "easter[easter['product'].str.find('φλαούνες αλμυρές')!= -1]"
   ]
  },
  {
   "cell_type": "code",
   "execution_count": null,
   "id": "b2b3ab2e",
   "metadata": {},
   "outputs": [],
   "source": [
    "easter[easter['product'].str.find('φλαούνες με σταφιδάκια')!= -1]"
   ]
  },
  {
   "attachments": {},
   "cell_type": "markdown",
   "id": "d89589a4",
   "metadata": {},
   "source": [
    "# Green Monday"
   ]
  },
  {
   "cell_type": "code",
   "execution_count": null,
   "id": "136a94cf",
   "metadata": {},
   "outputs": [],
   "source": [
    "import pandas as pd\n",
    "import numpy as np"
   ]
  },
  {
   "cell_type": "code",
   "execution_count": null,
   "id": "04eeb885",
   "metadata": {},
   "outputs": [],
   "source": [
    "data = pd.read_excel('../Data/FinalData/Final.xlsx')\n",
    "\n",
    "df = pd.DataFrame(data)\n",
    "df = df.drop(\"Unnamed: 0\",axis=1)\n",
    "df"
   ]
  },
  {
   "cell_type": "code",
   "execution_count": null,
   "id": "779eb4b8",
   "metadata": {},
   "outputs": [],
   "source": [
    "gm = df[(df['file'] == 'ΠαρατηρητήτιοΤιμώνΚαθαράςΔευτέρας')]\n",
    "gm['product'] = gm['product'].str.lower()\n",
    "gm"
   ]
  },
  {
   "cell_type": "code",
   "execution_count": null,
   "id": "06cfa8b7",
   "metadata": {},
   "outputs": [],
   "source": [
    "gm[gm['product'].str.find('πατάτες')!= -1]"
   ]
  },
  {
   "cell_type": "code",
   "execution_count": null,
   "id": "9c65365c",
   "metadata": {},
   "outputs": [],
   "source": [
    "gm[gm['product'].str.find('ντομάτες')!= -1]"
   ]
  },
  {
   "cell_type": "code",
   "execution_count": null,
   "id": "1f684b7d",
   "metadata": {},
   "outputs": [],
   "source": [
    "gm[gm['product'].str.find('αγγουράκια θερμοκηπίου')!= -1]"
   ]
  },
  {
   "cell_type": "code",
   "execution_count": null,
   "id": "4ef69aee",
   "metadata": {},
   "outputs": [],
   "source": [
    "gm[gm['product'].str.find('αγγουράκια χωραφιού')!= -1]"
   ]
  },
  {
   "cell_type": "code",
   "execution_count": null,
   "id": "4ebce717",
   "metadata": {},
   "outputs": [],
   "source": [
    "gm[gm['product'].str.find('αγκινάρες άσπρες (kg)')!= -1]"
   ]
  },
  {
   "cell_type": "code",
   "execution_count": null,
   "id": "68062df5",
   "metadata": {},
   "outputs": [],
   "source": [
    "gm[gm['product'].str.find('πορτοκάλια μέρλιν')!= -1]"
   ]
  },
  {
   "cell_type": "code",
   "execution_count": null,
   "id": "2317e2f7",
   "metadata": {},
   "outputs": [],
   "source": [
    "gm[gm['product'].str.find('πορτοκάλια γιαφίτικα')!= -1]"
   ]
  },
  {
   "cell_type": "code",
   "execution_count": null,
   "id": "6cabca68",
   "metadata": {},
   "outputs": [],
   "source": [
    "gm[gm['product'].str.find('σέλινο')!= -1]"
   ]
  },
  {
   "cell_type": "code",
   "execution_count": null,
   "id": "8edd5df7",
   "metadata": {},
   "outputs": [],
   "source": [
    "gm[gm['product'].str.find('μανιτάρια')!= -1]"
   ]
  },
  {
   "cell_type": "code",
   "execution_count": null,
   "id": "a20ae968",
   "metadata": {},
   "outputs": [],
   "source": [
    "gm[gm['product'].str.find('μακεδονικος χαλβάς με γεύση βανίλια')!= -1]"
   ]
  },
  {
   "cell_type": "code",
   "execution_count": null,
   "id": "591f5535",
   "metadata": {},
   "outputs": [],
   "source": [
    "gm[gm['product'].str.find('ταχίνι ')!= -1]"
   ]
  },
  {
   "cell_type": "code",
   "execution_count": null,
   "id": "3c4ebada",
   "metadata": {},
   "outputs": [],
   "source": [
    "gm[gm['product'].str.find('df ταχινοσαλάτα')!= -1]"
   ]
  },
  {
   "cell_type": "code",
   "execution_count": null,
   "id": "cf0be615",
   "metadata": {},
   "outputs": [],
   "source": [
    "gm[gm['product'].str.find('df ταραμοσαλάτα')!= -1]"
   ]
  },
  {
   "cell_type": "code",
   "execution_count": null,
   "id": "e16cfb34",
   "metadata": {},
   "outputs": [],
   "source": [
    "gm[gm['product'].str.find('χούμους')!= -1]"
   ]
  },
  {
   "cell_type": "code",
   "execution_count": null,
   "id": "8edd3e1d",
   "metadata": {},
   "outputs": [],
   "source": [
    "gm[gm['product'].str.find('λαγάνα')!= -1]"
   ]
  },
  {
   "cell_type": "code",
   "execution_count": null,
   "id": "b8c5c764",
   "metadata": {},
   "outputs": [],
   "source": [
    "gm[gm['product'].str.find('ταχινόπιττα τεμάχιο')!= -1]"
   ]
  },
  {
   "cell_type": "code",
   "execution_count": null,
   "id": "f9afe4d6",
   "metadata": {},
   "outputs": [],
   "source": [
    "gm[gm['product'].str.find('ελιωτή χωριάτικη τεμάχιο')!= -1]"
   ]
  },
  {
   "cell_type": "code",
   "execution_count": null,
   "id": "35c6b327",
   "metadata": {},
   "outputs": [],
   "source": [
    "gm[gm['product'].str.find('κάρβουνα')!= -1]"
   ]
  },
  {
   "cell_type": "code",
   "execution_count": null,
   "id": "9188f323",
   "metadata": {},
   "outputs": [],
   "source": [
    "gm[gm['product'].str.find('edesma ολόκληρες σουπιές')!= -1]"
   ]
  },
  {
   "cell_type": "code",
   "execution_count": null,
   "id": "fc96c4e2",
   "metadata": {},
   "outputs": [],
   "source": [
    "gm[gm['product'].str.find('χταπόδι')!= -1]"
   ]
  },
  {
   "cell_type": "code",
   "execution_count": null,
   "id": "c5d178c9",
   "metadata": {},
   "outputs": [],
   "source": [
    "gm[gm['product'].str.find('othello')!= -1]"
   ]
  },
  {
   "attachments": {},
   "cell_type": "markdown",
   "id": "9877e6b8",
   "metadata": {},
   "source": [
    "# Add extra column + edit + export to csv"
   ]
  },
  {
   "cell_type": "code",
   "execution_count": null,
   "id": "ec1a7f78",
   "metadata": {},
   "outputs": [],
   "source": [
    "import pandas as pd\n",
    "import numpy as np"
   ]
  },
  {
   "cell_type": "code",
   "execution_count": null,
   "id": "8b21328b",
   "metadata": {},
   "outputs": [],
   "source": [
    "data = pd.read_excel('../Data/FinalData/Final.xlsx')\n",
    "\n",
    "df = pd.DataFrame(data)\n",
    "df = df.drop(\"Unnamed: 0\",axis=1)\n",
    "df['product'] = df['product'].str.lower()\n",
    "df"
   ]
  },
  {
   "cell_type": "code",
   "execution_count": null,
   "id": "27845f11",
   "metadata": {},
   "outputs": [],
   "source": [
    "str = 'NaN'\n",
    "normProduct = []\n",
    "for i in range(len(df)):\n",
    "   normProduct.append(str)\n",
    "#df['normalized_product'] = normProduct\n",
    "df.insert(2, 'normalized_product', normProduct, True)\n",
    "df"
   ]
  },
  {
   "cell_type": "code",
   "execution_count": null,
   "id": "411ecc1d",
   "metadata": {},
   "outputs": [],
   "source": [
    "arr = (df['product'].str.find('βοδινός κιμάς')!= -1)|(df['product'].str.find('μοσχαρίσιος κιμάς')!= -1)\n",
    "for i in range(len(df)):\n",
    "   if (arr[i]):\n",
    "     df['normalized_product'][i] = 'βοδινός κιμάς (kg)'\n",
    "\n",
    "# results    \n",
    "df[(df['product'].str.find('βοδινός κιμάς')!= -1)|(df['product'].str.find('μοσχαρίσιος κιμάς')!= -1)]"
   ]
  },
  {
   "cell_type": "code",
   "execution_count": null,
   "id": "da5eb6ef",
   "metadata": {},
   "outputs": [],
   "source": [
    "arr = (df['product'].str.find('αλαμάρι φρέσκο μεγάλο')!= -1)\n",
    "for i in range(len(df)):\n",
    "   if (arr[i]):\n",
    "     df['normalized_product'][i] = 'καλαμάρι φρέσκο μεγάλο (kg)'\n",
    "\n",
    "# results    \n",
    "df[(df['product'].str.find('αλαμάρι φρέσκο μεγάλο')!= -1)]"
   ]
  },
  {
   "cell_type": "code",
   "execution_count": null,
   "id": "4f8bd875",
   "metadata": {},
   "outputs": [],
   "source": [
    "arr = (df['product'].str.find('απόδι φρέσκο μεγάλο')!= -1)\n",
    "for i in range(len(df)):\n",
    "   if (arr[i]):\n",
    "     df['normalized_product'][i] = 'χταπόδι φρέσκο μεγάλο (kg)'\n",
    "\n",
    "# results    \n",
    "df[(df['product'].str.find('απόδι φρέσκο μεγάλο')!= -1)]"
   ]
  },
  {
   "cell_type": "code",
   "execution_count": null,
   "id": "2dea16d4",
   "metadata": {},
   "outputs": [],
   "source": [
    "arr = (df['type'].str.find('ΜΑΛΑΚΙΑ')!= -1)\n",
    "for i in range(len(df)):\n",
    "   if (arr[i]):\n",
    "     df['type'][i] = 'ΦΡΕΣΚΑ ΨΑΡΙΑ/ΜΑΛΑΚΙΑ'\n",
    "\n",
    "# results    \n",
    "df[(df['type'].str.find('ΜΑΛΑΚΙΑ')!= -1)]"
   ]
  },
  {
   "cell_type": "code",
   "execution_count": null,
   "id": "ec23557a",
   "metadata": {},
   "outputs": [],
   "source": [
    "arr = (df['product'].str.find('κοτόπουλο')!= -1)&(df['product'].str.find('φιλ')!= -1)\n",
    "for i in range(len(df)):\n",
    "   if (arr[i]):\n",
    "     df['normalized_product'][i] = 'κοτόπουλο φιλέτο (kg)'\n",
    "\n",
    "# results    \n",
    "df[(df['product'].str.find('κοτόπουλο')!= -1)&(df['product'].str.find('φιλ')!= -1)]"
   ]
  },
  {
   "cell_type": "code",
   "execution_count": null,
   "id": "9ff8868f",
   "metadata": {},
   "outputs": [],
   "source": [
    "arr = (df['product'].str.find('κοτόπουλο')!= -1)&(df['product'].str.find('ολό')!= -1)\n",
    "for i in range(len(df)):\n",
    "   if (arr[i]):\n",
    "     df['normalized_product'][i] = 'κοτόπουλο ολόκληρο (kg)'\n",
    "\n",
    "# results    \n",
    "df[(df['product'].str.find('κοτόπουλο')!= -1)&(df['product'].str.find('ολό')!= -1)]"
   ]
  },
  {
   "cell_type": "code",
   "execution_count": null,
   "id": "f95755cb",
   "metadata": {},
   "outputs": [],
   "source": [
    "arr = (df['product'].str.find('χοιρινή μπριζόλα φ')!= -1)\n",
    "for i in range(len(df)):\n",
    "   if (arr[i]):\n",
    "     df['normalized_product'][i] = 'χοιρινή μπριζόλα φιλέτο (kg)'\n",
    "\n",
    "# results    \n",
    "df[(df['product'].str.find('χοιρινή μπριζόλα φ')!= -1)]"
   ]
  },
  {
   "cell_type": "code",
   "execution_count": null,
   "id": "40973feb",
   "metadata": {},
   "outputs": [],
   "source": [
    "arr = (df['product'].str.find('top-side')!= -1)&(df['product'].str.find('ντόπιο')!= -1)\n",
    "for i in range(len(df)):\n",
    "   if (arr[i]):\n",
    "     df['normalized_product'][i] = 'βοδινό top-side ντόπιο (kg)'\n",
    "\n",
    "# results    \n",
    "df[(df['product'].str.find('top-side')!= -1)&(df['product'].str.find('ντόπιο')!= -1)]"
   ]
  },
  {
   "cell_type": "code",
   "execution_count": null,
   "id": "25d1dc3c",
   "metadata": {},
   "outputs": [],
   "source": [
    "arr = (df['product'].str.find('βοδινό top-side (kg)')!= -1)\n",
    "for i in range(len(df)):\n",
    "   if (arr[i]):\n",
    "     df['normalized_product'][i] = 'βοδινό top-side (kg)'\n",
    "\n",
    "# results    \n",
    "df[(df['product'].str.find('βοδινό top-side (kg)')!= -1)]"
   ]
  },
  {
   "cell_type": "code",
   "execution_count": null,
   "id": "703b4bd9",
   "metadata": {},
   "outputs": [],
   "source": [
    "arr = (df['product'].str.find('λαπάς με κόκκαλο')!= -1)\n",
    "for i in range(len(df)):\n",
    "   if (arr[i]):\n",
    "     df['normalized_product'][i] = 'χοιρινός λαπάς με κόκκαλο (kg)'\n",
    "\n",
    "# results    \n",
    "df[(df['product'].str.find('λαπάς με κόκκαλο')!= -1)]"
   ]
  },
  {
   "cell_type": "code",
   "execution_count": null,
   "id": "2ea28e32",
   "metadata": {},
   "outputs": [],
   "source": [
    "df.to_csv('../Data/FinalData/EditedFinal.csv', encoding = 'utf-8-sig', index = False)"
   ]
  },
  {
   "cell_type": "code",
   "execution_count": null,
   "id": "b647697d",
   "metadata": {},
   "outputs": [],
   "source": [
    "newdata = pd.read_csv('../Data/FinalData/EditedFinal.csv')\n",
    "newdf = pd.DataFrame(newdata)\n",
    "newdf"
   ]
  },
  {
   "cell_type": "code",
   "execution_count": null,
   "id": "0db503ea",
   "metadata": {},
   "outputs": [],
   "source": []
  },
  {
   "attachments": {},
   "cell_type": "markdown",
   "id": "fe008928",
   "metadata": {},
   "source": [
    "# ksexwrista ipa"
   ]
  },
  {
   "cell_type": "code",
   "execution_count": null,
   "id": "b1e53e95",
   "metadata": {},
   "outputs": [],
   "source": [
    "import pandas as pd\n",
    "import numpy as np"
   ]
  },
  {
   "cell_type": "code",
   "execution_count": null,
   "id": "41e0fe05",
   "metadata": {},
   "outputs": [],
   "source": [
    "import seaborn as sns\n",
    "import matplotlib.pyplot as plt\n",
    "%matplotlib inline"
   ]
  },
  {
   "cell_type": "code",
   "execution_count": null,
   "id": "5ba3d832",
   "metadata": {},
   "outputs": [],
   "source": [
    "newdata = pd.read_csv('../Data/FinalData/EditedFinal.csv')\n",
    "newdf = pd.DataFrame(newdata)\n",
    "newdf"
   ]
  },
  {
   "cell_type": "code",
   "execution_count": null,
   "id": "2a85fbee",
   "metadata": {},
   "outputs": [],
   "source": [
    "xmasComparison= newdata[(newdata['file'] == 'ΠαρατηρητήτιοΤιμώνΧριστουγέννων')]\n",
    "xmasComparison"
   ]
  },
  {
   "cell_type": "code",
   "execution_count": null,
   "id": "b34973cf",
   "metadata": {},
   "outputs": [],
   "source": [
    "easterComparison= newdata[(newdata['file'] == 'ΠαρατηρητήτιοΤιμώνΠάσχα')]\n",
    "easterComparison"
   ]
  },
  {
   "cell_type": "code",
   "execution_count": null,
   "id": "71e70b6d",
   "metadata": {},
   "outputs": [],
   "source": [
    "basicComparison22= newdata[(newdata['file'] == 'ΒασικάΚαταναλωτικάΑγαθά')&(newdata['year'] == 2022)]\n",
    "basicComparison22"
   ]
  },
  {
   "cell_type": "code",
   "execution_count": null,
   "id": "f2cca0a5",
   "metadata": {},
   "outputs": [],
   "source": [
    "basicComparison21= newdata[(newdata['file'] == 'ΒασικάΚαταναλωτικάΑγαθά')&(newdata['year'] == 2021)]\n",
    "basicComparison21"
   ]
  },
  {
   "cell_type": "code",
   "execution_count": null,
   "id": "44fbeef9",
   "metadata": {},
   "outputs": [],
   "source": [
    "temp = xmasComparison[(xmasComparison['normalized_product'] == 'κοτόπουλο φιλέτο (kg)')]\n",
    "temp"
   ]
  },
  {
   "cell_type": "code",
   "execution_count": null,
   "id": "568f08a0",
   "metadata": {},
   "outputs": [],
   "source": [
    "temp.plot(x='year',y='min', color = 'green', alpha=0.8)\n",
    "plt.suptitle('Σύγκριση Τιμών: Χριστούγεννα', color = 'C3', fontsize = 16)\n",
    "plt.xlabel('Κοτόπουλο Φιλέτο (kg)', color = 'C0', labelpad = 20, fontsize = 12)\n",
    "plt.ylabel('Ελάχιστη Τιμή', color = 'C0', labelpad = 20, fontsize = 12)"
   ]
  },
  {
   "cell_type": "code",
   "execution_count": null,
   "id": "24b8e30f",
   "metadata": {},
   "outputs": [],
   "source": [
    "temp1 = easterComparison[(easterComparison['normalized_product'] == 'κοτόπουλο φιλέτο (kg)')]\n",
    "temp1"
   ]
  },
  {
   "cell_type": "code",
   "execution_count": null,
   "metadata": {},
   "outputs": [],
   "source": [
    "temp1.plot(x='year',y='min', color = 'r', alpha=0.8)\n",
    "plt.suptitle('Σύγκριση Τιμών: Πάσχα', color = 'C3', fontsize = 16)\n",
    "plt.xlabel('Κοτόπουλο Φιλέτο (kg)', color = 'C0', labelpad = 20, fontsize = 12)\n",
    "plt.ylabel('Ελάχιστη Τιμή', color = 'C0', labelpad = 20, fontsize = 12)"
   ]
  },
  {
   "cell_type": "code",
   "execution_count": null,
   "id": "cfd18b2b",
   "metadata": {},
   "outputs": [],
   "source": [
    "temp21 = basicComparison21[(basicComparison21['normalized_product'] == 'κοτόπουλο φιλέτο (kg)')]\n",
    "temp21 = temp21.sort_values(by=['month'])\n",
    "temp21"
   ]
  },
  {
   "cell_type": "code",
   "execution_count": null,
   "id": "6d2f6c7b",
   "metadata": {},
   "outputs": [],
   "source": [
    "temp21.plot(x='month',y='min', color = 'C08', alpha=0.8)\n",
    "plt.suptitle('Σύγκριση Τιμών: ΒασικάΚαταναλωτικάΑγαθά', color = 'C3', fontsize = 16)\n",
    "plt.xlabel('Κοτόπουλο Φιλέτο (kg)', color = 'C0', labelpad = 20, fontsize = 12)\n",
    "plt.ylabel('Ελάχιστη Τιμή', color = 'C0', labelpad = 20, fontsize = 12)"
   ]
  },
  {
   "cell_type": "code",
   "execution_count": null,
   "id": "ce766476",
   "metadata": {},
   "outputs": [],
   "source": [
    "temp22 = basicComparison22[(basicComparison22['normalized_product'] == 'κοτόπουλο φιλέτο (kg)')]\n",
    "temp22 = temp22.sort_values(by=['month'])\n",
    "temp22"
   ]
  },
  {
   "cell_type": "code",
   "execution_count": null,
   "metadata": {},
   "outputs": [],
   "source": [
    "temp22.plot(x='month',y='min', color = 'C09', alpha=0.8)\n",
    "plt.suptitle('Σύγκριση Τιμών: ΒασικάΚαταναλωτικάΑγαθά', color = 'C3', fontsize = 16)\n",
    "plt.xlabel('Κοτόπουλο Φιλέτο (kg)', color = 'C0', labelpad = 20, fontsize = 12)\n",
    "plt.ylabel('Ελάχιστη Τιμή', color = 'C0', labelpad = 20, fontsize = 12)"
   ]
  },
  {
   "cell_type": "code",
   "execution_count": null,
   "id": "1e3b185f",
   "metadata": {},
   "outputs": [],
   "source": [
    "ax = temp.plot(x='year', y='min', marker='.', color = 'r')\n",
    "temp1.plot(ax=ax, x='year', y='min', marker='.', color = 'g')\n",
    "plt.suptitle('Σύγκριση Τιμών', color = 'C3', fontsize = 16)\n",
    "plt.xlabel('Κοτόπουλο Φιλέτο (kg)', color = 'C0', labelpad = 20, fontsize = 12)\n",
    "plt.ylabel('Ελάχιστη Τιμή', color = 'C0', labelpad = 20, fontsize = 12)"
   ]
  },
  {
   "cell_type": "code",
   "execution_count": null,
   "id": "1afadf9f",
   "metadata": {},
   "outputs": [],
   "source": [
    "ax = temp.plot(x='year', y='max', marker='.', color = 'r')\n",
    "temp1.plot(ax=ax, x='year', y='max', marker='.', color = 'g')\n",
    "temp22.plot(ax=ax, x='year', y='max', marker='.')\n",
    "temp21.plot(ax=ax, x='year', y='max', marker='.')\n",
    "plt.suptitle('Σύγκριση Τιμών', color = 'C3', fontsize = 16)\n",
    "plt.xlabel('Κοτόπουλο Φιλέτο (kg)', color = 'C0', labelpad = 20, fontsize = 12)\n",
    "plt.ylabel('Μέγιστη Τιμή', color = 'C0', labelpad = 20, fontsize = 12)"
   ]
  },
  {
   "cell_type": "code",
   "execution_count": null,
   "id": "96592bc1",
   "metadata": {},
   "outputs": [],
   "source": [
    "ax = temp.plot(x='year', y='avg', marker='.', color = 'r', label='Christmas')\n",
    "temp1.plot(ax=ax, x='year', y='avg', marker='.', color = 'g', label='Easter')\n",
    "temp22.plot(ax=ax, x='year', y='avg', marker='.')\n",
    "temp21.plot(ax=ax, x='year', y='avg', marker='.')\n",
    "plt.suptitle('Σύγκριση Τιμών', color = 'C3', fontsize = 16)\n",
    "plt.xlabel('Κοτόπουλο Φιλέτο (kg)', color = 'C0', labelpad = 20, fontsize = 12)\n",
    "plt.ylabel('Μέση Σταθμισμένη Τιμή', color = 'C0', labelpad = 20, fontsize = 12)"
   ]
  },
  {
   "cell_type": "code",
   "execution_count": null,
   "id": "5e95c297",
   "metadata": {},
   "outputs": [],
   "source": [
    "xmasComparison= newdata[(newdata['month'] == 12) & (newdata['year'] == 2022) & (newdata['type'] == 'ΚΡΕΑΣ')]\n",
    "xmasComparison"
   ]
  },
  {
   "cell_type": "code",
   "execution_count": null,
   "id": "d4d5a8fd",
   "metadata": {},
   "outputs": [],
   "source": [
    "temp = xmasComparison[(xmasComparison['normalized_product'] == 'κοτόπουλο φιλέτο (kg)')]\n",
    "temp"
   ]
  },
  {
   "cell_type": "code",
   "execution_count": null,
   "id": "01333b91",
   "metadata": {},
   "outputs": [],
   "source": [
    "ax = temp.plot(x='file', y='min', marker = 'o')\n",
    "temp.plot(ax=ax, x='file', y='max', marker = 'o')\n",
    "temp.plot(ax=ax, x='file', y='avg', marker = 'o')\n",
    "plt.suptitle('Σύγκριση Τιμών: Χριστούγεννα', color = 'C3', fontsize = 16)\n",
    "plt.xlabel('Κοτόπουλο Φιλέτο (kg)', color = 'C0', labelpad = 20, fontsize = 12)\n",
    "plt.ylabel('Ελάχιστη Τιμή', color = 'C0', labelpad = 20, fontsize = 12)"
   ]
  },
  {
   "cell_type": "code",
   "execution_count": null,
   "id": "dd506824",
   "metadata": {},
   "outputs": [],
   "source": [
    "plt.scatter(data=temp, x='file',y='min', color = 'green', alpha=0.8)\n",
    "plt.suptitle('Σύγκριση Τιμών: Βασικά Καταναλωτικά Αγαθά - Χριστούγεννα 2022', color = 'C3', fontsize = 16)\n",
    "plt.xlabel('Κοτόπουλο Φιλέτο (kg)', color = 'C0', labelpad = 20, fontsize = 12)\n",
    "plt.ylabel('Ελάχιστη Τιμή', color = 'C0', labelpad = 20, fontsize = 12)"
   ]
  },
  {
   "cell_type": "code",
   "execution_count": null,
   "id": "8290e3f0",
   "metadata": {},
   "outputs": [],
   "source": [
    "fig, axes = plt.subplots(3, 1, figsize=(5,7))\n",
    "plt.suptitle('Σύγκριση Τιμών: Βασικά Καταναλωτικά Αγαθά - Χριστούγεννα 2022', color = 'C3', fontsize = 16)\n",
    "plt.xlabel('Κοτόπουλο Φιλέτο (kg)', color = 'C0', labelpad = 20, fontsize = 12)\n",
    "\n",
    "axes[0].scatter(data=temp, x='file',y='min', color = 'green', alpha=0.8)\n",
    "axes[0].set_ylabel('Ελάχιστη Τιμή', color = 'C0', labelpad = 20, fontsize = 12)\n",
    "\n",
    "axes[1].scatter(data=temp, x='file',y='max', color = 'red', alpha=0.8)\n",
    "axes[1].set_ylabel('Μέγιστη Τιμή', color = 'C0', labelpad = 20, fontsize = 12)\n",
    "\n",
    "axes[2].scatter(data=temp, x='file',y='avg', color = 'b', alpha=0.8)\n",
    "axes[2].set_ylabel('Μέση Τιμή', color = 'C0', labelpad = 20, fontsize = 12)"
   ]
  }
 ],
 "metadata": {
  "kernelspec": {
   "display_name": "Python 3 (ipykernel)",
   "language": "python",
   "name": "python3"
  },
  "language_info": {
   "codemirror_mode": {
    "name": "ipython",
    "version": 3
   },
   "file_extension": ".py",
   "mimetype": "text/x-python",
   "name": "python",
   "nbconvert_exporter": "python",
   "pygments_lexer": "ipython3",
   "version": "3.9.13"
  },
  "vscode": {
   "interpreter": {
    "hash": "78e82d01f180cfce426344f6c9e6de9ce9b385c3e5061ddeba99467fce072368"
   }
  }
 },
 "nbformat": 4,
 "nbformat_minor": 5
}
